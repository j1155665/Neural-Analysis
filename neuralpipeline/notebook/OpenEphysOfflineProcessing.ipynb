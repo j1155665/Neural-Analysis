{
 "cells": [
  {
   "cell_type": "code",
   "execution_count": 1,
   "id": "5b0fbc34",
   "metadata": {},
   "outputs": [],
   "source": [
    "directory = \"D:\\\\\"\n",
    "subject = \"zarya\"\n",
    "date = \"20250417\""
   ]
  },
  {
   "cell_type": "markdown",
   "id": "4f3e2bea",
   "metadata": {},
   "source": [
    "## 1. Merge recording file\n",
    "> The Openephys file struct = \"YYYY-MM-DD_HH-MM-SS\\Record Node 101\\experiment?\\recording?\" \n",
    "\n",
    "(sometimes the TTL signal is stored as NI-DAQmx-104.PXIe-6341 or NI-DAQmx-103.PXIe-6341)"
   ]
  },
  {
   "cell_type": "code",
   "execution_count": 2,
   "id": "cc111b9a",
   "metadata": {},
   "outputs": [
    {
     "name": "stdout",
     "output_type": "stream",
     "text": [
      "['2025-04-17_14-33-42']\n",
      "D:\\20250417\\2025-04-17_14-33-42\\Record Node 101\n",
      "Positions saved to 'D:\\20250417\\ProbeConfig.txt'.\n"
     ]
    }
   ],
   "source": [
    "from DataProcessor import MergeRecordingFile\n",
    "\n",
    "processor = MergeRecordingFile(directory, subject, date)\n",
    "processor.extract_channel_positions()\n",
    "# processor.merge_ap_data()\n",
    "# processor.merge_ttl_data()\n",
    "# processor.check_electrode_consistency()  ## check if the electrode configuration are consistent"
   ]
  },
  {
   "cell_type": "markdown",
   "id": "a48c9880",
   "metadata": {},
   "source": [
    "## 2. Create event struct (after kilosort)\n",
    "> Create event struct for .mat file"
   ]
  },
  {
   "cell_type": "code",
   "execution_count": 2,
   "id": "403d0b7a",
   "metadata": {
    "scrolled": true
   },
   "outputs": [
    {
     "name": "stdout",
     "output_type": "stream",
     "text": [
      "dots3DMP: Total Trials = 0, Good Trials = 0\n",
      "dots3DMPtuning: Total Trials = 230, Good Trials = 195\n",
      "Data saved at 'D:\\20250313\\zarya20250313dots3DMP.mat'\n"
     ]
    }
   ],
   "source": [
    "from DataProcessor import CreateEventStruct\n",
    "\n",
    "event_processor = CreateEventStruct(directory, subject, date)\n",
    "event_processor.filter_events()\n",
    "event_processor.load_info_data()\n",
    "event_processor.process_trials()\n",
    "event_processor.save_to_mat()"
   ]
  }
 ],
 "metadata": {
  "kernelspec": {
   "display_name": "Python 3 (ipykernel)",
   "language": "python",
   "name": "python3"
  },
  "language_info": {
   "codemirror_mode": {
    "name": "ipython",
    "version": 3
   },
   "file_extension": ".py",
   "mimetype": "text/x-python",
   "name": "python",
   "nbconvert_exporter": "python",
   "pygments_lexer": "ipython3",
   "version": "3.10.2"
  }
 },
 "nbformat": 4,
 "nbformat_minor": 5
}
