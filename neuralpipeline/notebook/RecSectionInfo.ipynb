{
 "cells": [
  {
   "cell_type": "markdown",
   "id": "2478bafa",
   "metadata": {},
   "source": [
    "## Input recording log notes into a new cell!"
   ]
  },
  {
   "cell_type": "code",
   "execution_count": 2,
   "id": "001b095a",
   "metadata": {},
   "outputs": [],
   "source": [
    "import numpy as np\n",
    "import os\n",
    "import scipy.io as sio"
   ]
  },
  {
   "cell_type": "code",
   "execution_count": 3,
   "id": "770da72b",
   "metadata": {},
   "outputs": [
    {
     "name": "stdout",
     "output_type": "stream",
     "text": [
      "Saving file to: D:\\20250411\\zarya20250411dots3DMP_info.mat\n",
      "File saved successfully!\n"
     ]
    }
   ],
   "source": [
    "# zarya, 20250411\n",
    "\n",
    "info = {}\n",
    "\n",
    "# Fixed information\n",
    "info['subject'] = 'zarya'\n",
    "info['date'] = '20250411'\n",
    "info['pen'] = 18\n",
    "info['gridtype'] = 'angled_15'\n",
    "\n",
    "# File paths\n",
    "info['filepath'] = f\"D:\\\\{info['date']}\\\\\" \n",
    "info_filepath = os.path.join(info['filepath'], f\"{info['subject']}{info['date']}dots3DMP_info.mat\")\n",
    "\n",
    "# Task-specific information\n",
    "info['pldaps_filetimes'] = [1453, 1522, 1546, 1554, 1623, 1640, 1654, 1722, 1732]\n",
    "info['totalPDS'] = len(info['pldaps_filetimes'])\n",
    "info['trellis_filenums'] = np.ones(info['totalPDS'], dtype=int)\n",
    "info['par'] = ['dots3DMP', 'dots3DMPtuning', 'dots3DMP', 'dots3DMPtuning', 'dots3DMP', 'dots3DMPtuning', 'dots3DMP','dots3DMP', 'dots3DMPtuning']\n",
    "info['rec_group'] = np.ones(info['totalPDS'], dtype=int)\n",
    "info['comments'] = ['dual recording']\n",
    "\n",
    "# Probe information\n",
    "info['probe_type'] = ['Neuropixels 1.0 NHP LONG']\n",
    "info['probe_ID'] = ['22327211092_384ch_20um_45mm']\n",
    "info['gridxy'] = [[4, 5]]\n",
    "info['chanlist'] = np.arange(1, 385)  \n",
    "info['bank'] = ['singlecolumn'] # Bank Config\n",
    "info['depths'] = [np.ones(info['totalPDS']) * 15000]  # MDI depth\n",
    "\n",
    "# Save the experiment Info\n",
    "print(f\"Saving file to: {info_filepath}\")\n",
    "os.makedirs(os.path.dirname(info_filepath), exist_ok=True)\n",
    "sio.savemat(info_filepath, {'info': info})\n",
    "print(\"File saved successfully!\")"
   ]
  },
  {
   "cell_type": "code",
   "execution_count": 2,
   "id": "2b2fa558",
   "metadata": {},
   "outputs": [
    {
     "name": "stdout",
     "output_type": "stream",
     "text": [
      "Saving file to: D:\\20250313\\zarya20250313dots3DMP_info.mat\n",
      "File saved successfully!\n"
     ]
    }
   ],
   "source": [
    "# zarya, 20250313\n",
    "\n",
    "info = {}\n",
    "\n",
    "# Fixed information\n",
    "info['subject'] = 'zarya'\n",
    "info['date'] = '20250313'\n",
    "info['pen'] = 16\n",
    "info['gridtype'] = 'angled_15'\n",
    "\n",
    "# File paths\n",
    "info['filepath'] = f\"D:\\\\{info['date']}\\\\\" \n",
    "info_filepath = os.path.join(info['filepath'], f\"{info['subject']}{info['date']}dots3DMP_info.mat\")\n",
    "\n",
    "# Task-specific information\n",
    "info['pldaps_filetimes'] = [1509, 1546]\n",
    "info['totalPDS'] = len(info['pldaps_filetimes'])\n",
    "info['trellis_filenums'] = np.ones(info['totalPDS'], dtype=int)\n",
    "info['par'] = ['dots3DMPtuning', 'dots3DMPtuning']\n",
    "info['rec_group'] = np.ones(info['totalPDS'], dtype=int)\n",
    "info['comments'] = ['dual recording, but maybe only MSTd']\n",
    "\n",
    "# Probe information\n",
    "info['probe_type'] = ['Neuropixels 1.0 NHP LONG']\n",
    "info['probe_ID'] = ['22327206081_384ch_20um_45mm']\n",
    "info['gridxy'] = [[4, 3]]\n",
    "info['chanlist'] = np.arange(1, 385)  \n",
    "info['bank'] = ['single column', 'Bank C'] # Bank Config\n",
    "info['depths'] = [np.ones(info['totalPDS']) * 15228]  # MDI depth\n",
    "\n",
    "# Save the experiment Info\n",
    "print(f\"Saving file to: {info_filepath}\")\n",
    "os.makedirs(os.path.dirname(info_filepath), exist_ok=True)\n",
    "sio.savemat(info_filepath, {'info': info})\n",
    "print(\"File saved successfully!\")"
   ]
  },
  {
   "cell_type": "code",
   "execution_count": 5,
   "id": "1af79a5e",
   "metadata": {},
   "outputs": [
    {
     "name": "stdout",
     "output_type": "stream",
     "text": [
      "Saving file to: D:\\20250306\\zarya20250306dots3DMP_info.mat\n",
      "File saved successfully!\n"
     ]
    }
   ],
   "source": [
    "# zarya, 20250306\n",
    "\n",
    "info = {}\n",
    "\n",
    "# Fixed information\n",
    "info['subject'] = 'zarya'\n",
    "info['date'] = '20250306'\n",
    "info['pen'] = 15\n",
    "info['gridtype'] = 'angled_15'\n",
    "\n",
    "# File paths\n",
    "info['filepath'] = f\"D:\\\\{info['date']}\\\\\" \n",
    "info_filepath = os.path.join(info['filepath'], f\"{info['subject']}{info['date']}dots3DMP_info.mat\")\n",
    "\n",
    "# Task-specific information\n",
    "info['pldaps_filetimes'] = [1447, 1509, 1529, 1559]\n",
    "info['totalPDS'] = len(info['pldaps_filetimes'])\n",
    "info['trellis_filenums'] = np.ones(info['totalPDS'], dtype=int)\n",
    "info['par'] = ['dots3DMP', 'dots3DMP', 'dots3DMPtuning', 'dots3DMP']\n",
    "info['rec_group'] = np.ones(info['totalPDS'], dtype=int)\n",
    "info['comments'] = ['dual recording, but maybe only MSTd']\n",
    "\n",
    "# Probe information\n",
    "info['probe_type'] = ['Neuropixels 1.0 NHP LONG']\n",
    "info['probe_ID'] = ['22327206081_384ch_20um_45mm']\n",
    "info['gridxy'] = [[4, 4]]\n",
    "info['chanlist'] = np.arange(1, 385)  # Channels 1-384\n",
    "info['depths'] = [np.ones(info['totalPDS']) * 16745]  # MDI depth\n",
    "\n",
    "# Save the experiment Info\n",
    "print(f\"Saving file to: {info_filepath}\")\n",
    "os.makedirs(os.path.dirname(info_filepath), exist_ok=True)\n",
    "sio.savemat(info_filepath, {'info': info})\n",
    "print(\"File saved successfully!\")"
   ]
  },
  {
   "cell_type": "code",
   "execution_count": 6,
   "id": "2ce7d9df",
   "metadata": {},
   "outputs": [
    {
     "name": "stdout",
     "output_type": "stream",
     "text": [
      "Saving file to: D:\\20241220\\zarya20241220dots3DMP_info.mat\n",
      "File saved successfully!\n"
     ]
    }
   ],
   "source": [
    "# zarya, 20241220\n",
    "\n",
    "info = {}\n",
    "\n",
    "# Fixed information\n",
    "info['subject'] = 'zarya'\n",
    "info['date'] = '20241220'\n",
    "info['pen'] = 14\n",
    "info['gridtype'] = 'original'\n",
    "\n",
    "# File paths\n",
    "info['filepath'] = f\"D:\\\\{info['date']}\\\\\" \n",
    "info_filepath = os.path.join(info['filepath'], f\"{info['subject']}{info['date']}dots3DMP_info.mat\")\n",
    "\n",
    "# Task-specific information\n",
    "info['pldaps_filetimes'] = [1440, 1507, 1524, 1622, 1538, 1704]\n",
    "info['totalPDS'] = len(info['pldaps_filetimes'])\n",
    "info['trellis_filenums'] = np.ones(info['totalPDS'], dtype=int)\n",
    "info['par'] = ['dots3DMP', 'dots3DMP', 'dots3DMP', 'dots3DMP', 'dots3DMPtuning', 'dots3DMPtuning']\n",
    "info['rec_group'] = np.ones(info['totalPDS'], dtype=int)\n",
    "info['comments'] = ['']\n",
    "\n",
    "# Probe information\n",
    "info['probe_type'] = ['Neuropixels 1.0 NHP LONG']\n",
    "info['probe_ID'] = ['22327206081_384ch_20um_45mm']\n",
    "info['gridxy'] = [[3, -3]]\n",
    "info['chanlist'] = np.arange(1, 385)  # Channels 1-384\n",
    "info['depths'] = [np.ones(info['totalPDS']) * 11000]  # MDI depth\n",
    "\n",
    "# Save the experiment Info\n",
    "print(f\"Saving file to: {info_filepath}\")\n",
    "os.makedirs(os.path.dirname(info_filepath), exist_ok=True)\n",
    "sio.savemat(info_filepath, {'info': info})\n",
    "print(\"File saved successfully!\")"
   ]
  }
 ],
 "metadata": {
  "kernelspec": {
   "display_name": "Python (dots3DMP)",
   "language": "python",
   "name": "dots3dmp"
  },
  "language_info": {
   "codemirror_mode": {
    "name": "ipython",
    "version": 3
   },
   "file_extension": ".py",
   "mimetype": "text/x-python",
   "name": "python",
   "nbconvert_exporter": "python",
   "pygments_lexer": "ipython3",
   "version": "3.12.7"
  }
 },
 "nbformat": 4,
 "nbformat_minor": 5
}
