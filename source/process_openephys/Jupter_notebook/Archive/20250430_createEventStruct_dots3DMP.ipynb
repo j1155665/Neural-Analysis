{
 "cells": [
  {
   "cell_type": "code",
   "execution_count": 2,
   "id": "1be7cfec-c76c-4e2a-8667-71b80ed9a9a5",
   "metadata": {},
   "outputs": [],
   "source": [
    "import numpy as np\n",
    "import scipy.io\n",
    "import os\n",
    "import matplotlib.pyplot as plt"
   ]
  },
  {
   "cell_type": "code",
   "execution_count": null,
   "id": "e79eaba2-5f62-4cf4-81e1-eaf4d8e54484",
   "metadata": {
    "scrolled": true
   },
   "outputs": [
    {
     "data": {
      "image/png": "[encoded data removed]",
      "text/plain": [
       "<Figure size 432x288 with 1 Axes>"
      ]
     },
     "metadata": {
      "needs_background": "light"
     },
     "output_type": "display_data"
    },
    {
     "name": "stdout",
     "output_type": "stream",
     "text": [
      "[  1   2   3   4   5   6   7   8   9  10  31  70  71  80  81  82  91  92\n",
      "  93 101 102 103 104 105 106 107 128]\n",
      "[128  10  10   2   3   3   4   5   5   5   5   6   6   5   5   7   7   7\n",
      "   8   1 103 103 103 103 103  93  93  93  93  93  82  82  82  71  71  71\n",
      "  71  92  92  92  92  80  80  71  71  71  71   2   3   3   4   5   5   5\n",
      "   5   6   6   5   5   7   7   7   8   1 101 101 101 101  92  92  92  92\n",
      "  81  81  81  71  71  71  71  92  92  92  92  80  80  70  70  70   2   3\n",
      "   3   3   3   4   5   5  10  10   2   2   2   2   1 104 104 104  92  92\n",
      "  92  92  81  81  81  71  71  71  71   2   3   3   4   5   5   5   5   6\n",
      "   6   5   5   7   7   7   8   9   9   1 106 106 106 106  91  91  91  91\n",
      "  91  81  81  81  71  71  71  71  92  92  92  92  81  81  81  70  70  70\n",
      "   2   3   3   4   5   5   5   5   6   6   5   5   7   7   7   8   9   9\n",
      "   1 104 104 104  93  93  93  93  93  81  81  81  71  71  71  71  92  92\n",
      "  92  92  81  81  81  70  70  70   2   3   3   4   5   5   5   5   6   6\n",
      "   5   5   7   7   7   8   9   9   1 106 106 106 106  92  92  92  92  82\n",
      "  82  82  71  71  71  71  92  92  92  92  81  81  81  71  71  71  71   2\n",
      "   3   3   4   5   5   5   5   6   6   5   5   7   7   7   8   9   9   1\n",
      " 107 107 107 107 107  93  93  93  93  93  82  82  82  71  71  71  71  92\n",
      "  92  92  92  81  81  81  70  70  70   2   3   3]\n"
     ]
    }
   ],
   "source": [
    "# for 20250710\n",
    "\n",
    "# Load the full_words.npy and timestamps.npy files\n",
    "full_words = np.load(r\"D:\\20250710\\zarya20250710dots3DMP_ttl.npy\")\n",
    "timestamps = np.load(r\"D:\\20250710\\zarya20250710dots3DMP_ttltimestamps.npy\")\n",
    "ttl_blocks = np.load(r\"D:\\20250710\\zarya20250710dots3DMP_ttlblocks.npy\")\n",
    "AP_time_stamps = np.load(r\"D:\\20250710\\zarya20250710dots3DMP_APtimestamps.npy\")\n",
    "\n",
    "full_words[full_words >= 256] -= 256\n",
    "\n",
    "block_indices = (ttl_blocks ==1310) # include all block! \n",
    "# block_start = \n",
    "\n",
    "# Exclude values that are still >= 256 after subtraction\n",
    "valid_indices = (full_words > 0) & (full_words !=13) \n",
    "\n",
    "if np.any(block_indices):\n",
    "    filtered_full_words = full_words[valid_indices & block_indices]\n",
    "    filtered_timestamps = timestamps[valid_indices & block_indices]\n",
    "    filtered_ttl_blocks = ttl_blocks[valid_indices & block_indices]\n",
    "else:\n",
    "    filtered_full_words = full_words[valid_indices]\n",
    "    filtered_timestamps = timestamps[valid_indices]\n",
    "    filtered_ttl_blocks = ttl_blocks[valid_indices]\n",
    "\n",
    "# plt.figure(figsize=(6, 4))  \n",
    "plt.plot(filtered_timestamps, filtered_full_words, '.', markersize=0.8) \n",
    "plt.plot(filtered_timestamps, filtered_ttl_blocks, '.', markersize=0.1) \n",
    "plt.xlabel(\"Timestamps (seconds)\")\n",
    "plt.ylabel(\"Full Words (adjusted)\")\n",
    "plt.title(\"Full Words vs Timestamps\")\n",
    "\n",
    "# Reduce ticks for a cleaner look\n",
    "plt.xticks(fontsize=8)\n",
    "plt.yticks(fontsize=8)\n",
    "\n",
    "plt.show()\n",
    "print(np.unique(filtered_full_words))\n",
    "print(filtered_full_words[:300])\n",
    "# print(AP_time_stamps[:100]*1000)\n",
    "# print(filtered_timestamps[:100])\n",
    "# print(np.max(AP_time_stamps), np.min(AP_time_stamps), np.max(filtered_timestamps), np.min(filtered_timestamps))"
   ]
  },
  {
   "cell_type": "code",
   "execution_count": null,
   "id": "38ae331b",
   "metadata": {},
   "outputs": [],
   "source": []
  },
  {
   "cell_type": "code",
   "execution_count": 4,
   "id": "ce7cb8b1",
   "metadata": {
    "scrolled": true
   },
   "outputs": [
    {
     "data": {
      "image/png": "[encoded data removed]",
      "text/plain": [
       "<Figure size 432x288 with 1 Axes>"
      ]
     },
     "metadata": {
      "needs_background": "light"
     },
     "output_type": "display_data"
    },
    {
     "name": "stdout",
     "output_type": "stream",
     "text": [
      "[ 1  2  3  5  8 10 15]\n"
     ]
    }
   ],
   "source": [
    "# for 20250306\n",
    "\n",
    "# Load the full_words.npy and timestamps.npy files\n",
    "full_words = np.load(r\"D:\\20250306\\zarya20250306dots3DMP_ttl.npy\")\n",
    "timestamps = np.load(r\"D:\\20250306\\zarya20250306dots3DMP_ttltimestamps.npy\")\n",
    "ttl_blocks = np.load(r\"D:\\20250306\\zarya20250306dots3DMP_ttlblocks.npy\")\n",
    "AP_time_stamps = np.load(r\"D:\\20250306\\zarya20250306dots3DMP_APtimestamps.npy\")\n",
    "\n",
    "full_words[full_words >= 256] -= 256\n",
    "\n",
    "block_indices = (ttl_blocks ==1529) # include all block! \n",
    "# block_start = \n",
    "\n",
    "# Exclude values that are still >= 256 after subtraction\n",
    "valid_indices = (full_words > 0) & (full_words != 13) & (full_words <= 20)\n",
    "\n",
    "if np.any(block_indices):\n",
    "    filtered_full_words = full_words[valid_indices & block_indices]\n",
    "    filtered_timestamps = timestamps[valid_indices & block_indices]\n",
    "    filtered_ttl_blocks = ttl_blocks[valid_indices & block_indices]\n",
    "else:\n",
    "    filtered_full_words = full_words[valid_indices]\n",
    "    filtered_timestamps = timestamps[valid_indices]\n",
    "    filtered_ttl_blocks = ttl_blocks[valid_indices]\n",
    "\n",
    "# plt.figure(figsize=(6, 4))  \n",
    "plt.plot(filtered_timestamps, filtered_full_words, '.', markersize=0.8) \n",
    "# plt.plot(filtered_timestamps, filtered_ttl_blocks, '.', markersize=0.1) \n",
    "plt.xlabel(\"Timestamps (seconds)\")\n",
    "plt.ylabel(\"Full Words (adjusted)\")\n",
    "plt.title(\"Full Words vs Timestamps\")\n",
    "\n",
    "# Reduce ticks for a cleaner look\n",
    "plt.xticks(fontsize=8)\n",
    "plt.yticks(fontsize=8)\n",
    "\n",
    "plt.show()\n",
    "print(np.unique(filtered_full_words))\n",
    "# print(filtered_timestamps[:100])\n",
    "# print(np.max(AP_time_stamps), np.min(AP_time_stamps), np.max(filtered_timestamps), np.min(filtered_timestamps))"
   ]
  },
  {
   "cell_type": "code",
   "execution_count": 12,
   "id": "aac8a7dd",
   "metadata": {},
   "outputs": [
    {
     "name": "stdout",
     "output_type": "stream",
     "text": [
      "[1250 1310 1328 1350 1409 1422]\n"
     ]
    }
   ],
   "source": [
    "mat_data = scipy.io.loadmat(r'D:\\20250602\\zarya20250602dots3DMP_info.mat')\n",
    "\n",
    "info = mat_data['info']\n",
    "\n",
    "pldaps_filetimes = info['pldaps_filetimes'][0][0]\n",
    "pldaps_filetimes = pldaps_filetimes.flatten()\n",
    "par = info['par'][0, 0]\n",
    "print(pldaps_filetimes)"
   ]
  },
  {
   "cell_type": "code",
   "execution_count": 15,
   "id": "b69a36e6",
   "metadata": {},
   "outputs": [
    {
     "name": "stdout",
     "output_type": "stream",
     "text": [
      "132.0\n"
     ]
    }
   ],
   "source": [
    "data = filtered_full_words.copy()\n",
    "timestamps = filtered_timestamps.copy()\n",
    "\n",
    "# Define event codes \n",
    "TRIAL = 1\n",
    "FIX = 2\n",
    "FIXATION = 3\n",
    "STIMONOFF = 5\n",
    "SACC = 6\n",
    "TARGHOLD = 7\n",
    "POSTTARGHOLD = 8\n",
    "BREAKFIX = 10\n",
    "\n",
    "# Define BLOCK and event indices\n",
    "total_blocks = np.unique(filtered_ttl_blocks)\n",
    "block_type = np.full(filtered_ttl_blocks.shape, '', dtype='O')\n",
    "\n",
    "\n",
    "\n",
    "# for i in total_blocks:\n",
    "#     # Define PDS_filetime and par\n",
    "#     block_indices = np.where(filtered_ttl_blocks == i)[0]\n",
    "#     data_block = data[block_indices[0]:block_indices[-1] + 1]  \n",
    "#     first_fix_idx = np.where(data_block == FIX)[0]\n",
    "#     PDS_filetime = data_block[1] * 100 + (data_block[first_fix_idx[0]-1])   \n",
    "#     matched_idx = np.where(pldaps_filetimes == PDS_filetime)[0]\n",
    "#     if matched_idx.size > 0:\n",
    "#         corresponding_par = par[matched_idx[0]]\n",
    "#         block_type[block_indices[0]:block_indices[-1] + 1] = corresponding_par\n",
    "#         print(f\"Matched PDS_filetime: {PDS_filetime}, Corresponding par: {corresponding_par}\")\n",
    "#     else:\n",
    "#         print(f\"No match found for PDS_filetime: {PDS_filetime}\")\n",
    "#         break\n",
    "\n",
    "# Define TRIAL\n",
    "trial_indices = np.where(data == TRIAL)[0]\n",
    "idx_diffs = np.diff(trial_indices) > 10\n",
    "filtered_indices = np.concatenate(([trial_indices[0]], trial_indices[1:][idx_diffs]))\n",
    "trial_indices = np.array(filtered_indices)\n",
    "block_type = block_type[trial_indices]\n",
    "block_type = np.array([b.strip() for b in block_type])\n",
    "trial_size = len(trial_indices)\n",
    "\n",
    "# Define Behavior idx\n",
    "fix_idx = timestamps[np.where(data == FIX)[0]]\n",
    "fixation_idx = timestamps[np.where(data == FIXATION)[0]]\n",
    "stimOn_idx = timestamps[np.where(data == STIMONOFF)[0]]\n",
    "stimOff_idx = timestamps[np.where(data == STIMONOFF)[-1]]\n",
    "saccOnset_idx = timestamps[np.where(data == SACC)[0]]\n",
    "targHold_idx = timestamps[np.where(data == TARGHOLD)[0]]\n",
    "postTargHold_idx = timestamps[np.where(data == POSTTARGHOLD)[0]]\n",
    "breakFix_idx = timestamps[np.where(data == BREAKFIX)[0]]\n",
    "\n",
    "event_data = {\n",
    "    'fpOn_time': np.full(trial_size, np.nan),\n",
    "    'fixation_time': np.full(trial_size, np.nan),\n",
    "    'stimOn_time': np.full(trial_size, np.nan),\n",
    "    'stimOff_time': np.full(trial_size, np.nan),\n",
    "    'saccOnset_time': np.full(trial_size, np.nan),\n",
    "    'targHold_time': np.full(trial_size, np.nan),\n",
    "    'postTargHold_time': np.full(trial_size, np.nan),\n",
    "    'breakFix_time': np.full(trial_size, np.nan),\n",
    "    'good_trial': np.zeros(trial_size),\n",
    "    'headingInd': np.full(trial_size, np.nan),\n",
    "    'modality': np.full(trial_size, np.nan),\n",
    "    'coherenceInd': np.full(trial_size, np.nan),\n",
    "    'deltaInd': np.full(trial_size, np.nan),\n",
    "    'choice': np.full(trial_size, np.nan),\n",
    "    'correct': np.full(trial_size, np.nan),\n",
    "    'PDW': np.full(trial_size, np.nan)\n",
    "}\n",
    "\n",
    "vars_to_process = [\n",
    "    ('deltaInd', 'PDW'),\n",
    "    ('coherenceInd', 'correct'),\n",
    "    ('modality', 'choice'),\n",
    "    ('headingInd',)\n",
    "]\n",
    "\n",
    "for j in range(0, len(trial_indices)):\n",
    "    current_trial = timestamps[trial_indices[j]]  \n",
    "    if j == 0: \n",
    "        previous_trial = timestamps[0]  \n",
    "    elif j == len(trial_indices) - 1: \n",
    "        previous_trial = timestamps[trial_indices[j-1]]  \n",
    "    else:   \n",
    "        previous_trial = timestamps[trial_indices[j-1]] \n",
    "\n",
    "    valid_fix_idx = fix_idx[(fix_idx > previous_trial) & (fix_idx < current_trial)]\n",
    "    valid_fixation_idx = fixation_idx[(fixation_idx > previous_trial) & (fixation_idx < current_trial)]\n",
    "    valid_stimOn_idx = stimOn_idx[(stimOn_idx > previous_trial) & (stimOn_idx < current_trial)]\n",
    "    valid_stimOff_idx = stimOff_idx[(stimOff_idx > previous_trial) & (stimOff_idx < current_trial)]\n",
    "    valid_saccOnset_idx = saccOnset_idx[(saccOnset_idx > previous_trial) & (saccOnset_idx < current_trial)]\n",
    "    valid_targHold_idx = targHold_idx[(targHold_idx > previous_trial) & (targHold_idx < current_trial)]\n",
    "    valid_postTargHold_idx = postTargHold_idx[(postTargHold_idx > previous_trial) & (postTargHold_idx < current_trial)]\n",
    "    valid_breakFix_idx = breakFix_idx[(breakFix_idx > previous_trial) & (breakFix_idx < current_trial)]\n",
    "    \n",
    "    event_data['fpOn_time'][j] = valid_fix_idx[0] if valid_fix_idx.size > 0 else np.nan\n",
    "    event_data['fixation_time'][j] = valid_fixation_idx[0] if valid_fixation_idx.size > 0 else np.nan\n",
    "    event_data['stimOn_time'][j] = valid_stimOn_idx[0] if valid_stimOn_idx.size > 0 else np.nan\n",
    "    event_data['stimOff_time'][j] = valid_stimOff_idx[0] if valid_stimOff_idx.size > 0 else np.nan\n",
    "    event_data['saccOnset_time'][j] = valid_saccOnset_idx[0] if valid_saccOnset_idx.size > 0 else np.nan\n",
    "    event_data['targHold_time'][j] = valid_targHold_idx[0] if valid_targHold_idx.size > 0 else np.nan\n",
    "    event_data['postTargHold_time'][j] = valid_postTargHold_idx[0] if valid_postTargHold_idx.size > 0 else np.nan\n",
    "    event_data['breakFix_time'][j] = valid_breakFix_idx[0] if valid_breakFix_idx.size > 0 else np.nan\n",
    "\n",
    "    if np.isnan(event_data['breakFix_time'][j]):\n",
    "        event_data['good_trial'][j] = 1 \n",
    "    if np.isnan(event_data['fixation_time'][j]):\n",
    "        event_data['good_trial'][j] = 0 \n",
    "    \n",
    "    if j == len(trial_indices) - 1:\n",
    "        event_info = data[trial_indices[j]:]\n",
    "    else:\n",
    "        event_info = data[trial_indices[j]:trial_indices[j+1]]\n",
    "        \n",
    "    event_idx = event_info >=50\n",
    "    event_info = event_info[event_idx]\n",
    "    event_info -= 70\n",
    "    \n",
    "    for idx, (var1, *var2) in enumerate(vars_to_process):\n",
    "        if idx > 0:\n",
    "            event_info -= 10\n",
    "        if \"headingInd\" in var1 or any(\"headingInd\" in v for v in var2):\n",
    "            new_idx = (event_info <= 20) & (event_info >= 0)\n",
    "        else:\n",
    "            new_idx = (event_info <= 10) & (event_info >= 0)\n",
    "        new_info = event_info[new_idx]\n",
    "\n",
    "        if new_info.size > 0:\n",
    "            event_data[var1][j] = new_info[0] \n",
    "            print(var1, new_info[0] )\n",
    "            if var2:\n",
    "                event_data[var2[0]][j] = new_info[-1]\n",
    "                \n",
    "                if event_data['breakFix_time'][j] == 0:\n",
    "                    event_data[var2[0]][j] = np.nan\n",
    "        else:\n",
    "            event_data[var1][j] = np.nan\n",
    "            if var2:\n",
    "                event_data[var2[0]][j] = np.nan\n",
    "print(np.sum(event_data['good_trial']))"
   ]
  },
  {
   "cell_type": "code",
   "execution_count": 7,
   "id": "feb19d68",
   "metadata": {},
   "outputs": [
    {
     "name": "stdout",
     "output_type": "stream",
     "text": [
      "['' '' '' ... '' '' '']\n"
     ]
    }
   ],
   "source": [
    "# Define BLOCK and event indices\n",
    "total_blocks = np.unique(filtered_ttl_blocks)\n",
    "block_type = np.full(filtered_ttl_blocks.shape, '', dtype='O')\n",
    "print(block_type)"
   ]
  },
  {
   "cell_type": "code",
   "execution_count": 11,
   "id": "96668c9b",
   "metadata": {},
   "outputs": [
    {
     "name": "stdout",
     "output_type": "stream",
     "text": [
      "Data saved at 'D:\\20250306\\zarya20250306dots3DMP.mat' \n"
     ]
    }
   ],
   "source": [
    "par_type = ['dots3DMP', 'dots3DMPtuning']\n",
    "save_path = r'D:\\20250306\\zarya20250306dots3DMP.mat'\n",
    "\n",
    "data = {}\n",
    "\n",
    "for i in range(len(par_type)):\n",
    "    trial_2_save = block_type == par_type[i]\n",
    "    \n",
    "    trial_data = {}\n",
    "    for key in event_data:\n",
    "        if par_type[i] == 'dots3DMPtuning' and key in ['choice', 'correct', 'PDW']:\n",
    "            continue\n",
    "        trial_data[key] = event_data[key][trial_2_save]\n",
    "    \n",
    "    data[f'{par_type[i]}'] = {'events': trial_data}\n",
    "\n",
    "scipy.io.savemat(save_path, {'data': data})\n",
    "\n",
    "print(f\"Data saved at '{save_path}' \")\n"
   ]
  }
 ],
 "metadata": {
  "kernelspec": {
   "display_name": "Python 3 (ipykernel)",
   "language": "python",
   "name": "python3"
  },
  "language_info": {
   "codemirror_mode": {
    "name": "ipython",
    "version": 3
   },
   "file_extension": ".py",
   "mimetype": "text/x-python",
   "name": "python",
   "nbconvert_exporter": "python",
   "pygments_lexer": "ipython3",
   "version": "3.10.2"
  }
 },
 "nbformat": 4,
 "nbformat_minor": 5
}
